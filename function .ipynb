{
 "cells": [
  {
   "cell_type": "code",
   "execution_count": 4,
   "id": "f160e503-76d1-427f-84de-a10dc8bcb180",
   "metadata": {},
   "outputs": [
    {
     "name": "stdout",
     "output_type": "stream",
     "text": [
      "hello\n",
      "abhinay\n"
     ]
    }
   ],
   "source": [
    "def pm():\n",
    "    print('hello')\n",
    "    print('abhinay')\n",
    "pm()\n"
   ]
  },
  {
   "cell_type": "code",
   "execution_count": 7,
   "id": "298596ba-756d-41c4-8a54-0d0e1a01202a",
   "metadata": {},
   "outputs": [
    {
     "name": "stdout",
     "output_type": "stream",
     "text": [
      "hello\n",
      "abhinay\n",
      "hello\n",
      "abhinay\n",
      "hello\n",
      "abhinay\n"
     ]
    }
   ],
   "source": [
    "def pm():\n",
    "    print('hello')\n",
    "    print('abhinay')\n",
    "pm()\n",
    "def pm():\n",
    "    print('hello')\n",
    "    print('abhinay')\n",
    "pm()\n",
    "def pm():\n",
    "    print('hello')\n",
    "    print('abhinay')\n",
    "pm()"
   ]
  },
  {
   "cell_type": "code",
   "execution_count": null,
   "id": "be7ff6c5-f09d-4d1d-b3dc-8f8d1099c1a3",
   "metadata": {},
   "outputs": [],
   "source": []
  },
  {
   "cell_type": "code",
   "execution_count": null,
   "id": "b15312ad-5c7a-4274-94aa-8fba8e1b40b1",
   "metadata": {},
   "outputs": [],
   "source": []
  },
  {
   "cell_type": "code",
   "execution_count": null,
   "id": "194e768a-904b-40a6-be7f-f98203aa3082",
   "metadata": {},
   "outputs": [],
   "source": []
  },
  {
   "cell_type": "code",
   "execution_count": null,
   "id": "f49f3f19-e447-499c-9b4b-eca90dcea2f2",
   "metadata": {},
   "outputs": [],
   "source": []
  },
  {
   "cell_type": "code",
   "execution_count": null,
   "id": "ecf7ad1f-7b87-4cda-9a90-c577e0b5729c",
   "metadata": {},
   "outputs": [],
   "source": []
  },
  {
   "cell_type": "code",
   "execution_count": null,
   "id": "a5774aa0-6565-400d-a13c-651cc707e8ce",
   "metadata": {},
   "outputs": [],
   "source": []
  },
  {
   "cell_type": "code",
   "execution_count": null,
   "id": "67e6035b-b904-44df-b9a9-1540cb54abc7",
   "metadata": {},
   "outputs": [],
   "source": []
  },
  {
   "cell_type": "code",
   "execution_count": null,
   "id": "89e84f68-ce9a-4719-be9d-904873a526dc",
   "metadata": {},
   "outputs": [],
   "source": []
  },
  {
   "cell_type": "code",
   "execution_count": null,
   "id": "8c79e96b-7b4b-4f08-a00f-4d3cb86d486b",
   "metadata": {},
   "outputs": [],
   "source": []
  },
  {
   "cell_type": "code",
   "execution_count": null,
   "id": "491c7350-6714-47db-ba5d-26059d744caa",
   "metadata": {},
   "outputs": [],
   "source": []
  },
  {
   "cell_type": "code",
   "execution_count": null,
   "id": "5bc9a0d7-2f21-4c96-ab45-c457e7a2b393",
   "metadata": {},
   "outputs": [],
   "source": []
  },
  {
   "cell_type": "code",
   "execution_count": null,
   "id": "03264fc9-2331-474f-aee4-322da4eeba9f",
   "metadata": {},
   "outputs": [],
   "source": []
  },
  {
   "cell_type": "code",
   "execution_count": null,
   "id": "56ca1eb3-5a83-4908-b19f-03f8b13539e6",
   "metadata": {},
   "outputs": [],
   "source": []
  },
  {
   "cell_type": "code",
   "execution_count": null,
   "id": "6e344da9-d9c4-42f1-97d1-81ed15827f7c",
   "metadata": {},
   "outputs": [],
   "source": []
  },
  {
   "cell_type": "code",
   "execution_count": null,
   "id": "1ae8e864-891b-47b4-823a-6bf0e274ca15",
   "metadata": {},
   "outputs": [],
   "source": []
  },
  {
   "cell_type": "code",
   "execution_count": null,
   "id": "c0313ad8-091e-4852-87bc-e431e538ffcf",
   "metadata": {},
   "outputs": [],
   "source": []
  },
  {
   "cell_type": "code",
   "execution_count": null,
   "id": "ca906f8a-524b-4c4e-b0b9-b688e5b79a10",
   "metadata": {},
   "outputs": [],
   "source": []
  },
  {
   "cell_type": "code",
   "execution_count": null,
   "id": "f52cc6a4-633b-4ca5-9c04-924d751d85ce",
   "metadata": {},
   "outputs": [],
   "source": []
  },
  {
   "cell_type": "code",
   "execution_count": null,
   "id": "ee8c0069-90ec-4aa2-81d0-3a2c2b557b6c",
   "metadata": {},
   "outputs": [],
   "source": []
  },
  {
   "cell_type": "code",
   "execution_count": null,
   "id": "a40101fc-fc97-4f3e-8075-8cc8002a1c2d",
   "metadata": {},
   "outputs": [],
   "source": []
  },
  {
   "cell_type": "code",
   "execution_count": null,
   "id": "d62cbf11-5805-42e9-8a5c-d2956d7b171a",
   "metadata": {},
   "outputs": [],
   "source": []
  },
  {
   "cell_type": "code",
   "execution_count": null,
   "id": "d8c1a9be-0f33-4b6b-944b-3b77c4aae76b",
   "metadata": {},
   "outputs": [],
   "source": []
  },
  {
   "cell_type": "code",
   "execution_count": null,
   "id": "844b3ac2-4fb3-4e01-b947-0f116b41379b",
   "metadata": {},
   "outputs": [],
   "source": []
  },
  {
   "cell_type": "code",
   "execution_count": null,
   "id": "29ef7e18-1866-40a3-b8e0-93a63dea4ed3",
   "metadata": {},
   "outputs": [],
   "source": []
  },
  {
   "cell_type": "code",
   "execution_count": null,
   "id": "c1c4ca2b-9050-406f-875c-831d53b9eaf1",
   "metadata": {},
   "outputs": [],
   "source": []
  },
  {
   "cell_type": "code",
   "execution_count": null,
   "id": "5f7c045b-d151-45ed-9b94-e2d6c8b55edc",
   "metadata": {},
   "outputs": [],
   "source": []
  },
  {
   "cell_type": "code",
   "execution_count": null,
   "id": "db342cb7-03fa-4d3d-a5a2-43f9313a5572",
   "metadata": {},
   "outputs": [],
   "source": []
  }
 ],
 "metadata": {
  "kernelspec": {
   "display_name": "Python 3 (ipykernel)",
   "language": "python",
   "name": "python3"
  },
  "language_info": {
   "codemirror_mode": {
    "name": "ipython",
    "version": 3
   },
   "file_extension": ".py",
   "mimetype": "text/x-python",
   "name": "python",
   "nbconvert_exporter": "python",
   "pygments_lexer": "ipython3",
   "version": "3.12.7"
  }
 },
 "nbformat": 4,
 "nbformat_minor": 5
}
