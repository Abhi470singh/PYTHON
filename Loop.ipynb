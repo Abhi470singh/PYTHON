{
 "cells": [
  {
   "cell_type": "markdown",
   "id": "7e6fc753-7d14-4396-acce-2975f4d73468",
   "metadata": {},
   "source": [
    "# Conditions"
   ]
  },
  {
   "cell_type": "code",
   "execution_count": 2,
   "id": "bb798f98-3089-4c14-8cd1-28385d8510a1",
   "metadata": {},
   "outputs": [
    {
     "name": "stdout",
     "output_type": "stream",
     "text": [
      "Data Science\n"
     ]
    }
   ],
   "source": [
    "if True: # indentiation is always 4 space\n",
    "       print('Data Science')"
   ]
  },
  {
   "cell_type": "code",
   "execution_count": 3,
   "id": "d9692a9e-ffe7-4929-8413-e9a4236eb71b",
   "metadata": {},
   "outputs": [
    {
     "name": "stdout",
     "output_type": "stream",
     "text": [
      "ds\n"
     ]
    }
   ],
   "source": [
    "if True:\n",
    "    print('ds')"
   ]
  },
  {
   "cell_type": "code",
   "execution_count": 6,
   "id": "80c96ad4-ae30-4a90-8214-deab1b56a12f",
   "metadata": {},
   "outputs": [
    {
     "name": "stdout",
     "output_type": "stream",
     "text": [
      "bye for now\n"
     ]
    }
   ],
   "source": [
    "if False:\n",
    "    print('Data Science')\n",
    "print('bye for now')"
   ]
  },
  {
   "cell_type": "code",
   "execution_count": 8,
   "id": "40ac9858-9e0b-45b0-af94-450acfd360f1",
   "metadata": {},
   "outputs": [
    {
     "name": "stdout",
     "output_type": "stream",
     "text": [
      "data Science\n",
      "bye for now\n"
     ]
    }
   ],
   "source": [
    "if True:   # indentiation is always 4 spaces\n",
    "    print('data Science')\n",
    "print('bye for now')"
   ]
  },
  {
   "cell_type": "code",
   "execution_count": 9,
   "id": "9b9b4023-23e8-40c0-ba50-e550a24226fe",
   "metadata": {},
   "outputs": [
    {
     "name": "stdout",
     "output_type": "stream",
     "text": [
      "bye for now\n"
     ]
    }
   ],
   "source": [
    "if False: # indentiation is always 4 spaces\n",
    "    print('Data Science')\n",
    "else:\n",
    "    print('bye for now')"
   ]
  },
  {
   "cell_type": "code",
   "execution_count": 10,
   "id": "1d9ff05a-dfa3-4321-80f5-7cf00166f37e",
   "metadata": {},
   "outputs": [
    {
     "name": "stdout",
     "output_type": "stream",
     "text": [
      "Even number\n"
     ]
    }
   ],
   "source": [
    "#to print only even number\n",
    "x = 4\n",
    "r = x % 2 \n",
    "\n",
    "if r == 0:\n",
    "    print('Even number')"
   ]
  },
  {
   "cell_type": "code",
   "execution_count": 13,
   "id": "ffca8432-76e3-4615-858c-0a8f139771eb",
   "metadata": {},
   "outputs": [],
   "source": [
    "# to print only even number\n",
    "x = 5\n",
    "r = x % 2 \n",
    "\n",
    "if r == 0:\n",
    "    print('Even number')"
   ]
  },
  {
   "cell_type": "code",
   "execution_count": 14,
   "id": "b4ffa18b-24f2-4e6f-8349-e799eedde057",
   "metadata": {},
   "outputs": [
    {
     "name": "stdout",
     "output_type": "stream",
     "text": [
      "odd number\n"
     ]
    }
   ],
   "source": [
    "x = 5\n",
    "r = x % 2 \n",
    "\n",
    "if r == 0:\n",
    "    print('Even number')\n",
    "print('odd number')"
   ]
  },
  {
   "cell_type": "code",
   "execution_count": 15,
   "id": "d1b54fcd-e273-44bf-a6c4-871bd69ba10d",
   "metadata": {},
   "outputs": [
    {
     "name": "stdout",
     "output_type": "stream",
     "text": [
      "Even number\n",
      "odd number\n"
     ]
    }
   ],
   "source": [
    "x = 6\n",
    "r = x % 2 \n",
    "\n",
    "if r == 0:\n",
    "    print('Even number')\n",
    "print('odd number')"
   ]
  },
  {
   "cell_type": "code",
   "execution_count": 16,
   "id": "d708e016-a672-4b7e-bab3-fbffc245a892",
   "metadata": {},
   "outputs": [
    {
     "name": "stdout",
     "output_type": "stream",
     "text": [
      "Even number\n"
     ]
    }
   ],
   "source": [
    "x = 10\n",
    "r = x % 2 \n",
    "\n",
    "if r == 0:\n",
    "    print('Even number')\n",
    "if r == 1:\n",
    "    print('odd number')"
   ]
  },
  {
   "cell_type": "code",
   "execution_count": 17,
   "id": "f99b5283-1597-462b-834c-d408a9bb6658",
   "metadata": {},
   "outputs": [
    {
     "name": "stdout",
     "output_type": "stream",
     "text": [
      "odd number\n"
     ]
    }
   ],
   "source": [
    "x = 11\n",
    "r = x % 2 \n",
    "\n",
    "if r == 0:\n",
    "    print('Even number')\n",
    "if r == 1:\n",
    "    print('odd number')"
   ]
  },
  {
   "cell_type": "code",
   "execution_count": 18,
   "id": "8662ff6d-70d0-4f5f-96a2-9408e7826235",
   "metadata": {},
   "outputs": [
    {
     "name": "stdout",
     "output_type": "stream",
     "text": [
      "odd number\n"
     ]
    }
   ],
   "source": [
    "x = 11\n",
    "r = x % 2 \n",
    "\n",
    "if r == 0:\n",
    "    print('Even number')\n",
    "else:\n",
    "    print('odd number')"
   ]
  },
  {
   "cell_type": "code",
   "execution_count": 19,
   "id": "21f641ba-7138-4de7-9d46-070a2d8606f4",
   "metadata": {},
   "outputs": [
    {
     "name": "stdout",
     "output_type": "stream",
     "text": [
      "odd number\n"
     ]
    }
   ],
   "source": [
    "x = 23\n",
    "r = x % 2 \n",
    "\n",
    "if r == 0:\n",
    "    print('Even number')\n",
    "if r == 1:\n",
    "    print('odd number')"
   ]
  },
  {
   "cell_type": "code",
   "execution_count": 20,
   "id": "707e9e4c-918f-434f-85d2-bfac251da988",
   "metadata": {},
   "outputs": [
    {
     "name": "stdout",
     "output_type": "stream",
     "text": [
      "odd number\n"
     ]
    }
   ],
   "source": [
    "x = 17\n",
    "r = x % 2 \n",
    "\n",
    "if r == 0:\n",
    "    print('Even number')\n",
    "    \n",
    "if r != 0:\n",
    "    print('odd number')"
   ]
  },
  {
   "cell_type": "code",
   "execution_count": 21,
   "id": "61419eb9-238f-4871-8cd9-14e7cfd31939",
   "metadata": {},
   "outputs": [
    {
     "name": "stdout",
     "output_type": "stream",
     "text": [
      "Odd Number\n"
     ]
    }
   ],
   "source": [
    "x = 5\n",
    "r = x % 2\n",
    "\n",
    "if r == 0:\n",
    "    print('Even number')\n",
    "else:\n",
    "    print('Odd Number')"
   ]
  },
  {
   "cell_type": "code",
   "execution_count": 22,
   "id": "413dc637-9d01-4d46-898c-6037f24308ef",
   "metadata": {},
   "outputs": [
    {
     "name": "stdout",
     "output_type": "stream",
     "text": [
      "Even number\n"
     ]
    }
   ],
   "source": [
    "x = 4\n",
    "r = x % 2\n",
    "\n",
    "if r == 0:\n",
    "    print('Even number')\n",
    "else:\n",
    "    print('Odd Number')"
   ]
  },
  {
   "cell_type": "code",
   "execution_count": 23,
   "id": "b59bca02-6812-4769-8059-101ad4ac808c",
   "metadata": {},
   "outputs": [
    {
     "name": "stdout",
     "output_type": "stream",
     "text": [
      "Odd Number\n"
     ]
    }
   ],
   "source": [
    "x = 3\n",
    "r = x % 2\n",
    "\n",
    "if r == 0:\n",
    "    print('Even number')\n",
    "    if x>5:\n",
    "        print('greater number')\n",
    "  \n",
    "else:\n",
    "    print('Odd Number')"
   ]
  },
  {
   "cell_type": "code",
   "execution_count": 24,
   "id": "42d1625b-904a-48d8-90fd-7ddb77b42585",
   "metadata": {},
   "outputs": [
    {
     "name": "stdout",
     "output_type": "stream",
     "text": [
      "Even number\n"
     ]
    }
   ],
   "source": [
    "x = 4\n",
    "r = x % 2\n",
    "\n",
    "if r == 0:\n",
    "    print('Even number')\n",
    "    if x>5:\n",
    "        print('greater number')\n",
    "     \n",
    "else:\n",
    "    print('Odd Number')"
   ]
  },
  {
   "cell_type": "code",
   "execution_count": 25,
   "id": "0ef68461-eaed-4a69-97e9-6aa9ce8a19ce",
   "metadata": {},
   "outputs": [
    {
     "name": "stdout",
     "output_type": "stream",
     "text": [
      "Even number\n",
      "not greater \n"
     ]
    }
   ],
   "source": [
    "x = 4\n",
    "r = x % 2\n",
    "\n",
    "if r == 0:\n",
    "    print('Even number')\n",
    "    if x>5 :\n",
    "        print('greater number')\n",
    "    else:\n",
    "       print('not greater ')\n",
    "else:\n",
    "    print('odd number')"
   ]
  },
  {
   "cell_type": "code",
   "execution_count": 26,
   "id": "40abdf40-153d-436d-bdbd-721e9436662a",
   "metadata": {},
   "outputs": [
    {
     "name": "stdout",
     "output_type": "stream",
     "text": [
      "Even number\n",
      "greater number\n"
     ]
    }
   ],
   "source": [
    "x = 6\n",
    "r = x % 2\n",
    "\n",
    "if r == 0:\n",
    "    print('Even number')\n",
    "    if x>5 :\n",
    "        print('greater number')\n",
    "    else:\n",
    "        print('not greater ')\n",
    "        \n",
    "else:\n",
    "    print('odd number')"
   ]
  },
  {
   "cell_type": "code",
   "execution_count": 27,
   "id": "0329985e-84c6-494c-b1d1-07587ea4c807",
   "metadata": {},
   "outputs": [
    {
     "name": "stdout",
     "output_type": "stream",
     "text": [
      "Two\n"
     ]
    }
   ],
   "source": [
    "# when you use if it will check all condition but if we mention elif then it wont check all condition\n",
    "# when we use if condiction it will check all every block of code better debug in pychame\n",
    "#you can debug with value 1 & d for both if & elif \n",
    "x = 2\n",
    "\n",
    "if x == 1:\n",
    "    print('one')\n",
    "if x == 2:\n",
    "    print('Two')\n",
    "if x == 3:\n",
    "    print('Three')\n",
    "if x == 4:\n",
    "    print('four')"
   ]
  },
  {
   "cell_type": "code",
   "execution_count": 28,
   "id": "cbfdf463-fb05-4f35-a2a7-d731c14d9f46",
   "metadata": {},
   "outputs": [
    {
     "name": "stdout",
     "output_type": "stream",
     "text": [
      "four\n"
     ]
    }
   ],
   "source": [
    "# elif it wont check till the block once you find the output it wont go to next line\n",
    "# you can try with multiple parameter 1, 2 & 3 value in x \n",
    "\n",
    "x = 4\n",
    "\n",
    "if(x == 1):\n",
    "    print('one')\n",
    "elif(x == 2):\n",
    "    print('Two')\n",
    "elif(x == 3):\n",
    "    print('Three')\n",
    "elif(x == 4):\n",
    "    print('four')"
   ]
  },
  {
   "cell_type": "code",
   "execution_count": 29,
   "id": "c18f5468-dfc0-4991-8528-32b2f406ea29",
   "metadata": {},
   "outputs": [],
   "source": [
    "x = 7\n",
    "\n",
    "if(x == 1):\n",
    "    print('one')\n",
    "elif(x == 2):\n",
    "    print('Two')\n",
    "elif(x == 3):\n",
    "    print('Three')\n",
    "elif(x == 4):\n",
    "    print('four')"
   ]
  },
  {
   "cell_type": "code",
   "execution_count": 30,
   "id": "9125c5a6-f716-4b4d-9b98-dd8bfea2ee70",
   "metadata": {},
   "outputs": [
    {
     "name": "stdout",
     "output_type": "stream",
     "text": [
      "wrong output\n"
     ]
    }
   ],
   "source": [
    "x = 7\n",
    "\n",
    "if(x == 1):\n",
    "    print('one')\n",
    "    \n",
    "    \n",
    "elif(x == 2):\n",
    "    print('Two')\n",
    "elif(x == 3):\n",
    "    print('Three')\n",
    "elif(x == 4):\n",
    "    print('four')\n",
    "    \n",
    "else:\n",
    "    print('wrong output')"
   ]
  },
  {
   "cell_type": "code",
   "execution_count": 31,
   "id": "c93ac3b6-3a8c-4687-98b1-3590876e8993",
   "metadata": {},
   "outputs": [
    {
     "name": "stdout",
     "output_type": "stream",
     "text": [
      "four\n"
     ]
    }
   ],
   "source": [
    "x = 4\n",
    "\n",
    "if(x == 1):\n",
    "    print('one')\n",
    "elif(x == 2):\n",
    "    print('Two')\n",
    "elif(x == 3):\n",
    "    print('Three')\n",
    "elif(x == 4):\n",
    "    print('four')\n",
    "else:\n",
    "    print('wrong output')"
   ]
  },
  {
   "cell_type": "code",
   "execution_count": 32,
   "id": "46d8e363-0a18-42ba-9702-ed733338476e",
   "metadata": {},
   "outputs": [
    {
     "name": "stdout",
     "output_type": "stream",
     "text": [
      "wrong output\n"
     ]
    }
   ],
   "source": [
    "x = 10\n",
    "\n",
    "if(x == 1):\n",
    "    print('one')\n",
    "elif(x == 2):\n",
    "    print('Two')\n",
    "elif(x == 3):\n",
    "    print('Three')\n",
    "elif(x == 4):\n",
    "    print('four')\n",
    "   \n",
    "else:\n",
    "    print('wrong output')"
   ]
  },
  {
   "cell_type": "code",
   "execution_count": 33,
   "id": "8c853f66-7309-4f85-ba9a-6ad77c11b141",
   "metadata": {},
   "outputs": [
    {
     "name": "stdout",
     "output_type": "stream",
     "text": [
      "a is greater than b\n"
     ]
    }
   ],
   "source": [
    "#short hand if \n",
    "a = 30\n",
    "b = 20\n",
    "if a > b: print(\"a is greater than b\")"
   ]
  },
  {
   "cell_type": "code",
   "execution_count": 34,
   "id": "2e8e0aaa-15f3-4b4c-8f9f-7ac78cbc99db",
   "metadata": {},
   "outputs": [
    {
     "name": "stdout",
     "output_type": "stream",
     "text": [
      "data science\n",
      "data science\n",
      "data science\n",
      "data science\n",
      "data science\n"
     ]
    }
   ],
   "source": [
    "print('data science')\n",
    "print('data science')\n",
    "print('data science')\n",
    "print('data science')    \n",
    "print('data science')"
   ]
  },
  {
   "cell_type": "code",
   "execution_count": 35,
   "id": "aa2a2a6f-1722-4a9f-a8c3-47969b67e0ec",
   "metadata": {},
   "outputs": [
    {
     "name": "stdout",
     "output_type": "stream",
     "text": [
      "data science\n",
      "data science\n",
      "data science\n",
      "data science\n",
      "data science\n"
     ]
    }
   ],
   "source": [
    "i = 1          # initializing\n",
    "\n",
    "while i<=5:    # condition\n",
    "    print('data science')\n",
    "    i = i + 1  # increment"
   ]
  },
  {
   "cell_type": "code",
   "execution_count": 36,
   "id": "63fb4ce5-8328-40c3-bd4d-547126f0a8a2",
   "metadata": {},
   "outputs": [
    {
     "name": "stdout",
     "output_type": "stream",
     "text": [
      "data science\n",
      "data science\n",
      "data science\n",
      "data science\n",
      "data science\n"
     ]
    }
   ],
   "source": [
    "i = 5          # initializing\n",
    "\n",
    "while i>=1:    # condition\n",
    "    print('data science')\n",
    "    i = i - 1  # decrement"
   ]
  },
  {
   "cell_type": "code",
   "execution_count": 37,
   "id": "0d6d1cb6-54e0-4e9e-ba37-f285d1164719",
   "metadata": {},
   "outputs": [
    {
     "name": "stdout",
     "output_type": "stream",
     "text": [
      "data science :  1\n",
      "data science :  2\n",
      "data science :  3\n",
      "data science :  4\n",
      "data science :  5\n"
     ]
    }
   ],
   "source": [
    "i = 1         # initializing\n",
    "while i<=5:    # condition\n",
    "    print('data science : ', i)\n",
    "    i = i + 1  # increment"
   ]
  },
  {
   "cell_type": "code",
   "execution_count": 38,
   "id": "59204bbd-e413-42e4-88b1-25e5f84b7ab3",
   "metadata": {},
   "outputs": [
    {
     "name": "stdout",
     "output_type": "stream",
     "text": [
      "data science : 5\n",
      "data science : 4\n",
      "data science : 3\n",
      "data science : 2\n",
      "data science : 1\n"
     ]
    }
   ],
   "source": [
    "i = 5          # initializing\n",
    "while i>=1:    # condition\n",
    "    print('data science :',i)\n",
    "    i = i - 1  # decrement"
   ]
  },
  {
   "cell_type": "code",
   "execution_count": 39,
   "id": "2029deb6-c2cd-4841-99f4-b6eef69a4d02",
   "metadata": {},
   "outputs": [
    {
     "name": "stdout",
     "output_type": "stream",
     "text": [
      "data science\n",
      "technology\n",
      "technology\n",
      "technology\n",
      "technology\n",
      "\n",
      "data science\n",
      "technology\n",
      "technology\n",
      "technology\n",
      "technology\n",
      "\n",
      "data science\n",
      "technology\n",
      "technology\n",
      "technology\n",
      "technology\n",
      "\n",
      "data science\n",
      "technology\n",
      "technology\n",
      "technology\n",
      "technology\n",
      "\n",
      "data science\n",
      "technology\n",
      "technology\n",
      "technology\n",
      "technology\n",
      "\n"
     ]
    }
   ],
   "source": [
    "i = 1\n",
    "\n",
    "while i<=5:\n",
    "    print('data science') # when we mention end then new line will not create\n",
    "    j = 1\n",
    "    while j<=4:\n",
    "        print('technology')\n",
    "        j = j + 1\n",
    "        \n",
    "    i = i + 1\n",
    "    print()\n",
    "    \n",
    "    # the output which we got is very lengty but how to make them one line lets refer to below code"
   ]
  },
  {
   "cell_type": "code",
   "execution_count": 40,
   "id": "812ebf06-b863-48b1-9900-78558ee9fd30",
   "metadata": {},
   "outputs": [
    {
     "name": "stdout",
     "output_type": "stream",
     "text": [
      " datascience technology technology technology technology\n",
      " datascience technology technology technology technology\n",
      " datascience technology technology technology technology\n",
      " datascience technology technology technology technology\n",
      " datascience technology technology technology technology\n"
     ]
    }
   ],
   "source": [
    "i = 1\n",
    "while i<=5:\n",
    "    print(' datascience', end = \"\") # when we mention end then new line will not create\n",
    "    j = 1\n",
    "    while j<=4:\n",
    "        print(' technology', end=\"\")\n",
    "        j = j + 1\n",
    "        \n",
    "    i = i + 1\n",
    "    print()"
   ]
  },
  {
   "cell_type": "code",
   "execution_count": 41,
   "id": "fc45c8be-37d0-4d5b-8d6b-0a1a27db2ecc",
   "metadata": {},
   "outputs": [
    {
     "name": "stdout",
     "output_type": "stream",
     "text": [
      "0 1 2 \n",
      "0 2 4 \n"
     ]
    }
   ],
   "source": [
    "# lets use while loop usig some numbers\n",
    "i = 1\n",
    "\n",
    "while i <= 2 :\n",
    "    j = 0\n",
    "    while  j <= 2 :\n",
    "        print(i*j, end=\" \")\n",
    "        j += 1\n",
    "    print()\n",
    "    i += 1"
   ]
  },
  {
   "cell_type": "code",
   "execution_count": 42,
   "id": "f5c15c89-2536-47f0-8f3c-20f10a607f21",
   "metadata": {},
   "outputs": [
    {
     "name": "stdout",
     "output_type": "stream",
     "text": [
      "0 1 2 3 \n",
      "0 2 4 6 \n",
      "0 3 6 9 \n",
      "0 4 8 12 \n"
     ]
    }
   ],
   "source": [
    "# lets use while loop usig some numbers\n",
    "i = 1\n",
    "while i <= 4 :\n",
    "    j = 0\n",
    "    while  j <= 3 :\n",
    "        print(i*j, end=\" \")\n",
    "        j += 1\n",
    "    print()\n",
    "    i += 1"
   ]
  },
  {
   "cell_type": "code",
   "execution_count": null,
   "id": "3516c34f-6ded-4ed3-9cb6-32267e4e6ba5",
   "metadata": {},
   "outputs": [],
   "source": [
    "FOR LOOP  -\n",
    "normally while loop it work with iteration or certaion some condition but for loop it will work with sequence (list, string,int)"
   ]
  },
  {
   "cell_type": "code",
   "execution_count": 43,
   "id": "af9c3602-c603-498e-ad02-da9d143efa20",
   "metadata": {},
   "outputs": [
    {
     "name": "stdout",
     "output_type": "stream",
     "text": [
      "n\n",
      "i\n",
      "t\n"
     ]
    }
   ],
   "source": [
    "name = 'nit'\n",
    "\n",
    "for i in name:\n",
    "    print(i)"
   ]
  },
  {
   "cell_type": "code",
   "execution_count": 44,
   "id": "aa018d14-5bee-4bff-a5b9-ef2eb4b6a2f0",
   "metadata": {},
   "outputs": [
    {
     "name": "stdout",
     "output_type": "stream",
     "text": [
      "1\n",
      "3.5\n",
      "hallo\n"
     ]
    }
   ],
   "source": [
    "name1 = [1,3.5,'hallo'] #i want print the value individualy\n",
    "\n",
    "for i in name1:\n",
    "    print(i)"
   ]
  },
  {
   "cell_type": "code",
   "execution_count": 45,
   "id": "bd4fb70e-f0d0-4430-951d-2ec0d77ece42",
   "metadata": {},
   "outputs": [
    {
     "name": "stdout",
     "output_type": "stream",
     "text": [
      "2\n",
      "3\n",
      "7.8\n",
      "hi\n"
     ]
    }
   ],
   "source": [
    "for i in [2, 3, 7.8, 'hi']:\n",
    "    print(i)"
   ]
  },
  {
   "cell_type": "code",
   "execution_count": 46,
   "id": "331927ec-d5ad-4f6a-9731-327045fc82ed",
   "metadata": {},
   "outputs": [
    {
     "data": {
      "text/plain": [
       "range(0, 5)"
      ]
     },
     "execution_count": 46,
     "metadata": {},
     "output_type": "execute_result"
    }
   ],
   "source": [
    "range(5)"
   ]
  },
  {
   "cell_type": "code",
   "execution_count": 47,
   "id": "e9ed44ea-b272-4a38-8c82-bee6b5d4b1a5",
   "metadata": {},
   "outputs": [
    {
     "name": "stdout",
     "output_type": "stream",
     "text": [
      "0\n",
      "1\n",
      "2\n",
      "3\n",
      "4\n"
     ]
    }
   ],
   "source": [
    "for i in range(5):\n",
    "    print(i)"
   ]
  },
  {
   "cell_type": "code",
   "execution_count": 48,
   "id": "d06e1875-06e3-483f-a4ef-c797b5925667",
   "metadata": {},
   "outputs": [
    {
     "name": "stdout",
     "output_type": "stream",
     "text": [
      "2\n",
      "3\n",
      "4\n"
     ]
    }
   ],
   "source": [
    "for i in range(2,5):\n",
    "    print(i)"
   ]
  },
  {
   "cell_type": "code",
   "execution_count": 49,
   "id": "87e823dd-bd41-4305-98c6-fdd547d33da1",
   "metadata": {},
   "outputs": [
    {
     "name": "stdout",
     "output_type": "stream",
     "text": [
      "1\n",
      "4\n",
      "7\n"
     ]
    }
   ],
   "source": [
    "for i in range(1,10,3):\n",
    "    print(i)"
   ]
  },
  {
   "cell_type": "code",
   "execution_count": 50,
   "id": "37bda615-13cf-44e6-9544-89ff45cdf3e4",
   "metadata": {},
   "outputs": [
    {
     "name": "stdout",
     "output_type": "stream",
     "text": [
      "1\n",
      "2\n",
      "3\n",
      "4\n",
      "5\n",
      "6\n",
      "7\n",
      "8\n",
      "9\n",
      "10\n",
      "11\n",
      "12\n",
      "13\n",
      "14\n",
      "15\n",
      "16\n",
      "17\n",
      "18\n",
      "19\n",
      "20\n"
     ]
    }
   ],
   "source": [
    "# print the value which is divisible by 5 \n",
    "for i in range(1,21):\n",
    "    print(i)  "
   ]
  },
  {
   "cell_type": "code",
   "execution_count": 51,
   "id": "2cf0fcce-2147-4d5c-bae5-3b30e1738a0a",
   "metadata": {},
   "outputs": [
    {
     "name": "stdout",
     "output_type": "stream",
     "text": [
      "5\n",
      "10\n",
      "15\n",
      "20\n",
      "25\n",
      "30\n",
      "35\n",
      "40\n",
      "45\n",
      "50\n"
     ]
    }
   ],
   "source": [
    "# print the value which is divisible by 5 \n",
    "\n",
    "for i in range(1,51):\n",
    "    \n",
    "    if i%5==0 :\n",
    "        print(i)"
   ]
  },
  {
   "cell_type": "code",
   "execution_count": 52,
   "id": "12a3ffa8-ba7c-4998-b19b-c3cd19a8a73b",
   "metadata": {},
   "outputs": [
    {
     "name": "stdout",
     "output_type": "stream",
     "text": [
      "1\n",
      "2\n",
      "3\n",
      "4\n",
      "6\n",
      "7\n",
      "8\n",
      "9\n",
      "11\n",
      "12\n",
      "13\n",
      "14\n",
      "16\n",
      "17\n",
      "18\n",
      "19\n",
      "21\n",
      "22\n",
      "23\n",
      "24\n",
      "26\n",
      "27\n",
      "28\n",
      "29\n",
      "31\n",
      "32\n",
      "33\n",
      "34\n",
      "36\n",
      "37\n",
      "38\n",
      "39\n",
      "41\n",
      "42\n",
      "43\n",
      "44\n",
      "46\n",
      "47\n",
      "48\n",
      "49\n"
     ]
    }
   ],
   "source": [
    "# print the value which is divisible by 5 i dont want that value \n",
    "for i in range(1,51):\n",
    "    \n",
    "    if i%5!=0 :\n",
    "        print(i)"
   ]
  },
  {
   "cell_type": "code",
   "execution_count": null,
   "id": "5dd91065-2c2b-49e4-8c5b-c05a4f4adf65",
   "metadata": {},
   "outputs": [],
   "source": [
    "# LETS DISCUSS ABOUT 3 KEYWORDS -- BREAK || CONTINUE || PASS\n",
    "BREAK STATEMNT - if you apply break statment in a loop then it will end the loop\n",
    "# Pass = skips block of code( function, class etc)\n",
    "# Continue= skips 1 step/iteration during loop \n",
    "# Break= jumps out of the function/loop"
   ]
  },
  {
   "cell_type": "code",
   "execution_count": 53,
   "id": "477a035d-cc26-4eb8-967f-3bd3f3816b24",
   "metadata": {},
   "outputs": [
    {
     "name": "stdin",
     "output_type": "stream",
     "text": [
      "How many choclets you want:? 5\n"
     ]
    },
    {
     "name": "stdout",
     "output_type": "stream",
     "text": [
      "choclet\n",
      "choclet\n",
      "choclet\n",
      "choclet\n",
      "choclet\n"
     ]
    }
   ],
   "source": [
    "# write the code user ask chocklet from vendor machne write the basic code \n",
    "\n",
    "x = int(input('How many choclets you want:?'))\n",
    "\n",
    "i = 1\n",
    "while i<=x:\n",
    "    print('choclet')\n",
    "    i += 1       "
   ]
  },
  {
   "cell_type": "code",
   "execution_count": 54,
   "id": "5b3a16c8-31ee-4ad0-9c67-f081bc4b0da1",
   "metadata": {},
   "outputs": [
    {
     "name": "stdin",
     "output_type": "stream",
     "text": [
      "How many choclets you want:? 6\n"
     ]
    },
    {
     "name": "stdout",
     "output_type": "stream",
     "text": [
      "choclet\n",
      "choclet\n",
      "choclet\n",
      "choclet\n",
      "choclet\n",
      "choclet\n"
     ]
    }
   ],
   "source": [
    "ava = 5 # the machine has only 5 choclet \n",
    "\n",
    "x = int(input('How many choclets you want:?'))\n",
    "\n",
    "i = 1\n",
    "while i<=x:\n",
    "    print('choclet')\n",
    "    i += 1   \n",
    "# if you check the user wants 10 choclets  but availabe choclet is 5 but we got output as 10 choclet\n",
    "# in this code we just declare but we dint apply any condition to it "
   ]
  },
  {
   "cell_type": "code",
   "execution_count": 55,
   "id": "ccfadd3a-a13b-49a6-93ca-40c9a1d6d6ae",
   "metadata": {},
   "outputs": [
    {
     "name": "stdin",
     "output_type": "stream",
     "text": [
      "How many choclets user want:? 2\n"
     ]
    },
    {
     "name": "stdout",
     "output_type": "stream",
     "text": [
      "choclet\n",
      "choclet\n",
      "bye for now\n"
     ]
    }
   ],
   "source": [
    "available_choclet = 5 # the machine has only 10 candis \n",
    "\n",
    "x = int(input('How many choclets user want:?'))\n",
    "\n",
    "i = 1\n",
    "while i<=x:\n",
    "    \n",
    "    if i>available_choclet: # we stop the execution but which code execution not entire code , i want to come out of while loop \n",
    "        break # break is statement | means jump out of the loop\n",
    "    print('choclet')\n",
    "    i += 1   \n",
    "    \n",
    "print('bye for now')"
   ]
  },
  {
   "cell_type": "code",
   "execution_count": 56,
   "id": "04d99f3c-3f02-47f7-927e-5673c5014e1a",
   "metadata": {},
   "outputs": [
    {
     "name": "stdin",
     "output_type": "stream",
     "text": [
      "How many choclets you want:? 3\n"
     ]
    },
    {
     "name": "stdout",
     "output_type": "stream",
     "text": [
      "choclet\n",
      "choclet\n",
      "choclet\n",
      "bye for now\n"
     ]
    }
   ],
   "source": [
    "available_choclet = 5 # the machine has only 10 candis \n",
    "\n",
    "x = int(input('How many choclets you want:?'))\n",
    "\n",
    "i = 1\n",
    "while i<=x:\n",
    "    \n",
    "    if i>available_choclet: # we stop the execution but which code execution not entire code , i want to come out of while loop \n",
    "        print('out of stock')\n",
    "        break # break is statement | means jump out of the loop\n",
    "    print('choclet')\n",
    "    i += 1   \n",
    "    \n",
    "print('bye for now')"
   ]
  },
  {
   "cell_type": "code",
   "execution_count": 57,
   "id": "d61f0e35-f91f-49d0-b8b8-2caaea42ffb7",
   "metadata": {},
   "outputs": [
    {
     "name": "stdout",
     "output_type": "stream",
     "text": [
      "1\n",
      "2\n",
      "3\n",
      "4\n",
      "5\n",
      "6\n",
      "7\n",
      "8\n",
      "9\n",
      "10\n"
     ]
    }
   ],
   "source": [
    "for i in range(1,11):\n",
    "    print(i)"
   ]
  },
  {
   "cell_type": "code",
   "execution_count": 58,
   "id": "cc59a76a-a249-434d-924c-2319ca5a8a77",
   "metadata": {},
   "outputs": [
    {
     "name": "stdout",
     "output_type": "stream",
     "text": [
      "1\n",
      "2\n",
      "3\n",
      "4\n",
      "5\n"
     ]
    }
   ],
   "source": [
    "for i in range(1,11):\n",
    "    if i == 6:\n",
    "       break \n",
    "    print(i)"
   ]
  },
  {
   "cell_type": "code",
   "execution_count": 59,
   "id": "ca10d02c-929a-49b7-832d-3e5d0060e973",
   "metadata": {},
   "outputs": [],
   "source": [
    "# in continue loop wont be terminate & exclue the assign number it give you entire output "
   ]
  },
  {
   "cell_type": "code",
   "execution_count": 60,
   "id": "cbc41281-6f7a-4549-ac90-5b7cf9cb8e76",
   "metadata": {},
   "outputs": [
    {
     "name": "stdout",
     "output_type": "stream",
     "text": [
      "1\n",
      "2\n",
      "4\n",
      "5\n",
      "6\n",
      "7\n",
      "8\n",
      "9\n",
      "10\n"
     ]
    }
   ],
   "source": [
    "for i in range(1,11):\n",
    "    if i == 3:\n",
    "        continue \n",
    "    print(i)"
   ]
  },
  {
   "cell_type": "code",
   "execution_count": 61,
   "id": "4a7d9cfd-0f7b-4df2-acd1-77cbe75a7c01",
   "metadata": {},
   "outputs": [
    {
     "name": "stdout",
     "output_type": "stream",
     "text": [
      "hello : 1\n",
      "hello : 2\n",
      "hello : 3\n",
      "hello : 4\n",
      "hello : 5\n",
      "hello : 7\n",
      "hello : 8\n",
      "hello : 9\n",
      "hello : 10\n"
     ]
    }
   ],
   "source": [
    "for i in range(1,11):\n",
    "    if i == 6:\n",
    "        continue  \n",
    "    print('hello :',i)"
   ]
  },
  {
   "cell_type": "code",
   "execution_count": 62,
   "id": "74e1867c-ebab-4f1f-bd20-a4e36f326214",
   "metadata": {},
   "outputs": [],
   "source": [
    "#PASS Statement - pass the code & it wont go ( code give you the error)"
   ]
  },
  {
   "cell_type": "code",
   "execution_count": 1,
   "id": "91423cd6-9e46-462d-b08c-f6ac552f55ee",
   "metadata": {},
   "outputs": [
    {
     "ename": "SyntaxError",
     "evalue": "incomplete input (1334445784.py, line 1)",
     "output_type": "error",
     "traceback": [
      "\u001b[1;36m  Cell \u001b[1;32mIn[1], line 1\u001b[1;36m\u001b[0m\n\u001b[1;33m    for i in range(1,11):\u001b[0m\n\u001b[1;37m                         ^\u001b[0m\n\u001b[1;31mSyntaxError\u001b[0m\u001b[1;31m:\u001b[0m incomplete input\n"
     ]
    }
   ],
   "source": [
    "for i in range(1,11):"
   ]
  },
  {
   "cell_type": "code",
   "execution_count": 2,
   "id": "8ad74abb-9be0-46df-a5d7-e9b2b2bee9ad",
   "metadata": {},
   "outputs": [],
   "source": [
    "for i in range(1,11):\n",
    "    pass"
   ]
  },
  {
   "cell_type": "code",
   "execution_count": 5,
   "id": "ac5cce91-2f92-4d3d-b456-0efb4dcd2cd8",
   "metadata": {},
   "outputs": [
    {
     "name": "stdout",
     "output_type": "stream",
     "text": [
      "3\n",
      "end\n",
      "6\n",
      "end\n",
      "9\n",
      "end\n",
      "12\n",
      "end\n",
      "15\n",
      "end\n",
      "18\n",
      "end\n",
      "21\n",
      "end\n",
      "24\n",
      "end\n",
      "27\n",
      "end\n",
      "30\n",
      "end\n",
      "33\n",
      "end\n",
      "36\n",
      "end\n",
      "39\n",
      "end\n",
      "42\n",
      "end\n",
      "45\n",
      "end\n",
      "48\n",
      "end\n"
     ]
    }
   ],
   "source": [
    "for i in range(1,51):\n",
    "    if i%3 ==0:\n",
    "        print(i)\n",
    "        print('end')"
   ]
  },
  {
   "cell_type": "code",
   "execution_count": 6,
   "id": "74e7bf12-712a-4f87-9303-860b07a24f1b",
   "metadata": {},
   "outputs": [
    {
     "name": "stdout",
     "output_type": "stream",
     "text": [
      "end\n",
      "end\n",
      "3\n",
      "end\n",
      "end\n",
      "end\n",
      "6\n",
      "end\n",
      "end\n",
      "end\n",
      "9\n",
      "end\n",
      "end\n",
      "end\n",
      "12\n",
      "end\n",
      "end\n",
      "end\n",
      "15\n",
      "end\n",
      "end\n",
      "end\n",
      "18\n",
      "end\n",
      "end\n",
      "end\n",
      "21\n",
      "end\n",
      "end\n",
      "end\n",
      "24\n",
      "end\n",
      "end\n",
      "end\n",
      "27\n",
      "end\n",
      "end\n",
      "end\n",
      "30\n",
      "end\n",
      "end\n",
      "end\n",
      "33\n",
      "end\n",
      "end\n",
      "end\n",
      "36\n",
      "end\n",
      "end\n",
      "end\n",
      "39\n",
      "end\n",
      "end\n",
      "end\n",
      "42\n",
      "end\n",
      "end\n",
      "end\n",
      "45\n",
      "end\n",
      "end\n",
      "end\n",
      "48\n",
      "end\n",
      "end\n",
      "end\n",
      "51\n",
      "end\n",
      "end\n",
      "end\n"
     ]
    }
   ],
   "source": [
    "for i in range(1,54):\n",
    "    if i%3 ==0:\n",
    "        print(i)\n",
    "    print('end')"
   ]
  },
  {
   "cell_type": "code",
   "execution_count": 26,
   "id": "cbe4db60-59fa-4502-aafc-555571d40f9d",
   "metadata": {},
   "outputs": [
    {
     "name": "stdout",
     "output_type": "stream",
     "text": [
      "end\n",
      "end\n",
      "3\n",
      "end\n",
      "end\n",
      "end\n",
      "6\n",
      "end\n",
      "end\n",
      "end\n",
      "9\n",
      "end\n",
      "end\n",
      "end\n",
      "12\n",
      "end\n",
      "end\n",
      "end\n",
      "15\n",
      "end\n",
      "end\n",
      "end\n",
      "18\n",
      "end\n",
      "end\n",
      "end\n",
      "21\n",
      "end\n",
      "end\n",
      "end\n",
      "24\n",
      "end\n",
      "end\n",
      "end\n",
      "27\n",
      "end\n",
      "end\n",
      "end\n",
      "30\n",
      "end\n",
      "end\n",
      "end\n",
      "33\n",
      "end\n",
      "end\n",
      "end\n",
      "36\n",
      "end\n",
      "end\n",
      "end\n",
      "39\n",
      "end\n",
      "end\n",
      "end\n",
      "42\n",
      "end\n",
      "end\n",
      "end\n",
      "45\n",
      "end\n",
      "end\n",
      "end\n",
      "48\n",
      "end\n",
      "end\n",
      "end\n"
     ]
    }
   ],
   "source": [
    "for i in range(1,51):\n",
    "    if i%3 == 0:\n",
    "        print(i)\n",
    "    print('end')"
   ]
  },
  {
   "cell_type": "code",
   "execution_count": 34,
   "id": "61abc598-e693-493f-a6f2-8198c0946bfb",
   "metadata": {},
   "outputs": [
    {
     "name": "stdout",
     "output_type": "stream",
     "text": [
      "1\n",
      "2\n",
      "4\n",
      "5\n",
      "7\n",
      "8\n",
      "10\n",
      "11\n",
      "13\n",
      "14\n",
      "16\n",
      "17\n",
      "19\n",
      "20\n",
      "22\n",
      "23\n",
      "25\n",
      "26\n",
      "28\n",
      "29\n",
      "31\n",
      "32\n",
      "34\n",
      "35\n",
      "37\n",
      "38\n",
      "40\n",
      "41\n",
      "43\n",
      "44\n",
      "46\n",
      "47\n",
      "49\n",
      "50\n",
      "52\n",
      "53\n",
      "end\n"
     ]
    }
   ],
   "source": [
    "for i in range(1,54):\n",
    "    if i%3 == 0:\n",
    "          continue\n",
    "    print(i)\n",
    "print('end')"
   ]
  },
  {
   "cell_type": "code",
   "execution_count": 36,
   "id": "ae54174b-08b7-43c6-966a-155977b2643c",
   "metadata": {},
   "outputs": [
    {
     "name": "stdout",
     "output_type": "stream",
     "text": [
      "3\n",
      "6\n",
      "9\n",
      "12\n",
      "15\n",
      "18\n",
      "21\n",
      "24\n",
      "27\n",
      "30\n",
      "33\n",
      "36\n",
      "39\n",
      "42\n",
      "45\n",
      "48\n",
      "51\n",
      "end\n"
     ]
    }
   ],
   "source": [
    "for i in range(1,54):\n",
    "    if i%3 == 0:\n",
    "        print(i)\n",
    "print('end')"
   ]
  },
  {
   "cell_type": "code",
   "execution_count": 40,
   "id": "9e6801c6-06ab-45da-938f-52b4a646fcca",
   "metadata": {},
   "outputs": [
    {
     "name": "stdout",
     "output_type": "stream",
     "text": [
      "3\n",
      "5\n",
      "6\n",
      "9\n",
      "10\n",
      "12\n",
      "15\n",
      "18\n",
      "20\n",
      "21\n",
      "24\n",
      "25\n",
      "27\n",
      "30\n",
      "33\n",
      "35\n",
      "36\n",
      "39\n",
      "40\n",
      "42\n",
      "45\n",
      "48\n",
      "50\n"
     ]
    }
   ],
   "source": [
    "for i in range (1,51):\n",
    "    if i%3 == 0 or i%5 ==0:\n",
    "        print(i)\n",
    "        #print('end')    \n",
    "# it will skip all the value which is divisible by 3 or 5"
   ]
  },
  {
   "cell_type": "code",
   "execution_count": 39,
   "id": "27be44e4-d4e5-4479-8460-e63a677e738a",
   "metadata": {},
   "outputs": [
    {
     "name": "stdout",
     "output_type": "stream",
     "text": [
      "1\n",
      "2\n",
      "4\n",
      "7\n",
      "8\n",
      "11\n",
      "13\n",
      "14\n",
      "16\n",
      "17\n",
      "19\n",
      "22\n",
      "23\n",
      "26\n",
      "28\n",
      "29\n",
      "31\n",
      "32\n",
      "34\n",
      "37\n",
      "38\n",
      "41\n",
      "43\n",
      "44\n",
      "46\n",
      "47\n",
      "49\n"
     ]
    }
   ],
   "source": [
    "for i in range (1,51):\n",
    "    if i%3 == 0 or i%5 ==0:\n",
    "        continue\n",
    "    print(i)"
   ]
  },
  {
   "cell_type": "code",
   "execution_count": 41,
   "id": "f6359fb3-f014-4b04-8572-4162e161ab56",
   "metadata": {},
   "outputs": [
    {
     "name": "stdout",
     "output_type": "stream",
     "text": [
      "1\n",
      "2\n",
      "3\n",
      "4\n",
      "5\n",
      "6\n",
      "7\n",
      "8\n",
      "9\n",
      "10\n",
      "11\n",
      "12\n",
      "13\n",
      "14\n",
      "16\n",
      "17\n",
      "18\n",
      "19\n",
      "20\n",
      "21\n",
      "22\n",
      "23\n",
      "24\n",
      "25\n",
      "26\n",
      "27\n",
      "28\n",
      "29\n",
      "31\n",
      "32\n",
      "33\n",
      "34\n",
      "35\n",
      "36\n",
      "37\n",
      "38\n",
      "39\n",
      "40\n",
      "41\n",
      "42\n",
      "43\n",
      "44\n",
      "46\n",
      "47\n",
      "48\n",
      "49\n",
      "end\n"
     ]
    }
   ],
   "source": [
    "for i in range(1,50):\n",
    "    if i%3 == 0 and i%5 == 0:\n",
    "        continue\n",
    "    print(i)\n",
    "print('end')    \n",
    "# when you apply and you wont get the value which is divisible by both 3 & 5 (15)"
   ]
  },
  {
   "cell_type": "code",
   "execution_count": 42,
   "id": "710f28ab-3048-4dac-868b-890981113707",
   "metadata": {},
   "outputs": [
    {
     "name": "stdout",
     "output_type": "stream",
     "text": [
      "1\n",
      "3\n",
      "5\n",
      "7\n",
      "9\n",
      "11\n",
      "13\n",
      "15\n",
      "17\n",
      "19\n",
      "21\n",
      "23\n",
      "25\n",
      "27\n",
      "29\n",
      "31\n",
      "33\n",
      "35\n",
      "37\n",
      "39\n",
      "41\n",
      "43\n",
      "45\n",
      "47\n",
      "49\n",
      "bye\n"
     ]
    }
   ],
   "source": [
    "# i dont want to print the values which are even numbers that means print only odd numbers\n",
    "\n",
    "for i in range(1,51):\n",
    "    \n",
    "    if (i%2 == 0):\n",
    "        #print('even')\n",
    "        continue\n",
    "    else:\n",
    "        print(i)\n",
    "print('bye')"
   ]
  },
  {
   "cell_type": "code",
   "execution_count": 43,
   "id": "b341c27c-3273-4a91-b47e-9af3c9e3d9f7",
   "metadata": {},
   "outputs": [],
   "source": [
    "# PRINTING PATTERN IN PYTHON"
   ]
  },
  {
   "cell_type": "code",
   "execution_count": 44,
   "id": "e7d63d4b-3d97-4b89-942b-59b9ebce2c91",
   "metadata": {},
   "outputs": [
    {
     "name": "stdout",
     "output_type": "stream",
     "text": [
      "# # # #\n",
      "# # # #\n",
      "# # # #\n",
      "# # # #\n"
     ]
    }
   ],
   "source": [
    "print('# # # #')\n",
    "print('# # # #')\n",
    "print('# # # #')\n",
    "print('# # # #')"
   ]
  },
  {
   "cell_type": "code",
   "execution_count": 45,
   "id": "b52fbb7a-40f8-4706-9e4f-00a1a57bfcf2",
   "metadata": {},
   "outputs": [
    {
     "name": "stdout",
     "output_type": "stream",
     "text": [
      "# # # # \n",
      "# # # # \n",
      "# # # # \n",
      "# # # # \n"
     ]
    }
   ],
   "source": [
    "for i in range(1,5):\n",
    "    i=i+1\n",
    "    print('# # # # ')"
   ]
  },
  {
   "cell_type": "code",
   "execution_count": 46,
   "id": "debee98c-179f-4520-83d1-1f2d5389136e",
   "metadata": {},
   "outputs": [
    {
     "name": "stdout",
     "output_type": "stream",
     "text": [
      "# # # #\n",
      "# # # #\n",
      "# # # #\n",
      "# # # #\n"
     ]
    }
   ],
   "source": [
    "for i in range(1,5):\n",
    "    if i<=5:\n",
    "        print('# # # #')"
   ]
  },
  {
   "cell_type": "code",
   "execution_count": 47,
   "id": "9d7b57c9-2365-4fb8-9c87-f5a885314003",
   "metadata": {},
   "outputs": [
    {
     "name": "stdout",
     "output_type": "stream",
     "text": [
      "#\n",
      "#\n",
      "#\n",
      "#\n"
     ]
    }
   ],
   "source": [
    "for j in range(4):\n",
    "    print('#')"
   ]
  },
  {
   "cell_type": "code",
   "execution_count": 48,
   "id": "11508c5a-931b-481d-910d-1b75d580d047",
   "metadata": {},
   "outputs": [
    {
     "name": "stdout",
     "output_type": "stream",
     "text": [
      "# # # #\n",
      "# # # #\n",
      "# # # #\n",
      "# # # #\n"
     ]
    }
   ],
   "source": [
    "for j in range(4):\n",
    "    print('# # # #')"
   ]
  },
  {
   "cell_type": "code",
   "execution_count": 49,
   "id": "9839ca49-530b-4606-b856-fb1337ae0730",
   "metadata": {},
   "outputs": [
    {
     "name": "stdout",
     "output_type": "stream",
     "text": [
      "# # # # # # # # "
     ]
    }
   ],
   "source": [
    "for j in range(4):\n",
    "    print('#', end=\" \")\n",
    "\n",
    "for j in range(4):\n",
    "    print('#', end=\" \")\n"
   ]
  },
  {
   "cell_type": "code",
   "execution_count": 50,
   "id": "f96552cd-9c25-4c63-aecf-485538ee0edc",
   "metadata": {},
   "outputs": [
    {
     "name": "stdout",
     "output_type": "stream",
     "text": [
      "# # # # \n",
      "# # # # "
     ]
    }
   ],
   "source": [
    "for j in range(4):\n",
    "    print('#', end=\" \")\n",
    "    \n",
    "print()\n",
    "    \n",
    "for j in range(4):\n",
    "    print('#', end=\" \")"
   ]
  },
  {
   "cell_type": "code",
   "execution_count": 51,
   "id": "d40915ab-5b3b-41e1-87d7-98c6eed45bb2",
   "metadata": {},
   "outputs": [
    {
     "name": "stdout",
     "output_type": "stream",
     "text": [
      "#  #  #  #  \n",
      "#  #  #  #  \n",
      "#  #  #  #  \n",
      "#  #  #  #  "
     ]
    }
   ],
   "source": [
    "for j in range(4):\n",
    "    print('#', end=\"  \")\n",
    "    \n",
    "print()\n",
    "\n",
    "for j in range(4):\n",
    "    print('#', end=\"  \")\n",
    "\n",
    "print()\n",
    "\n",
    "for j in range(4):\n",
    "    print('#', end=\"  \")\n",
    "    \n",
    "print()\n",
    "\n",
    "for j in range(4):\n",
    "    print('#', end=\"  \")"
   ]
  },
  {
   "cell_type": "code",
   "execution_count": 52,
   "id": "39f6280a-4404-4dc6-a62f-5151d26c3b1c",
   "metadata": {},
   "outputs": [
    {
     "name": "stdout",
     "output_type": "stream",
     "text": [
      "#  #  #  #  \n",
      "#  #  #  #  \n",
      "#  #  #  #  \n",
      "#  #  #  #  \n"
     ]
    }
   ],
   "source": [
    "for i in range(4):\n",
    "    for j in range(4):\n",
    "        print('#', end=\"  \")\n",
    "    print()\n",
    "    # pease use debug mode in pycharm"
   ]
  },
  {
   "cell_type": "code",
   "execution_count": 53,
   "id": "74eef34c-c90f-4d40-b87d-4f32aae33c3d",
   "metadata": {},
   "outputs": [
    {
     "name": "stdout",
     "output_type": "stream",
     "text": [
      "# \n",
      "# # \n",
      "# # # \n",
      "# # # # \n"
     ]
    }
   ],
   "source": [
    "for i in range(4):\n",
    "    for j in range(i+1):\n",
    "        print('#', end = \" \")\n",
    "    print()"
   ]
  },
  {
   "cell_type": "code",
   "execution_count": 54,
   "id": "6984f8a8-2868-4ae7-b250-1b01fbe17ac1",
   "metadata": {},
   "outputs": [
    {
     "name": "stdout",
     "output_type": "stream",
     "text": [
      "# \n",
      "# # \n",
      "# # # \n",
      "# # # # \n"
     ]
    }
   ],
   "source": [
    "for i in range(1,5):\n",
    "    print(\"# \"*i)"
   ]
  },
  {
   "cell_type": "code",
   "execution_count": 55,
   "id": "2fad0c02-3905-4097-8581-62b5485d31c4",
   "metadata": {},
   "outputs": [
    {
     "name": "stdout",
     "output_type": "stream",
     "text": [
      "# \n",
      "# # \n",
      "# # # \n",
      "# # # # \n"
     ]
    }
   ],
   "source": [
    "for i in range(1,5):\n",
    "    for j in range(4):\n",
    "        if i>j:\n",
    "            print(\"#\",end=\" \")\n",
    "    print()"
   ]
  },
  {
   "cell_type": "code",
   "execution_count": 56,
   "id": "c552c82d-3bf6-477b-9748-6376b120a1f7",
   "metadata": {},
   "outputs": [
    {
     "data": {
      "text/plain": [
       "[0, 1, 2, 3, 4]"
      ]
     },
     "execution_count": 56,
     "metadata": {},
     "output_type": "execute_result"
    }
   ],
   "source": [
    "list(range(5))"
   ]
  },
  {
   "cell_type": "code",
   "execution_count": 57,
   "id": "d990cf9c-aa30-4719-a8fa-ddac408fa6f0",
   "metadata": {},
   "outputs": [
    {
     "name": "stdout",
     "output_type": "stream",
     "text": [
      "\n",
      "#  \n",
      "#  #  \n",
      "#  #  #  \n"
     ]
    }
   ],
   "source": [
    "for i in range(4):\n",
    "    for j in range(i):\n",
    "        print('#', end=\"  \")\n",
    "    print()"
   ]
  },
  {
   "cell_type": "code",
   "execution_count": 58,
   "id": "542eae82-76d6-41a0-bcc0-bd564b90c780",
   "metadata": {},
   "outputs": [
    {
     "name": "stdout",
     "output_type": "stream",
     "text": [
      "#  \n",
      "#  #  \n",
      "#  #  #  \n",
      "#  #  #  #  \n"
     ]
    }
   ],
   "source": [
    "for i in range(4):\n",
    "    for j in range(i+1):\n",
    "        print('#', end=\"  \")\n",
    "    print()"
   ]
  },
  {
   "cell_type": "code",
   "execution_count": 59,
   "id": "6077d443-3801-4fb2-9402-7e4f389204af",
   "metadata": {},
   "outputs": [
    {
     "name": "stdout",
     "output_type": "stream",
     "text": [
      "#  #  #  #  \n",
      "#  #  #  \n",
      "#  #  \n",
      "#  \n"
     ]
    }
   ],
   "source": [
    "for i in range(4):\n",
    "    for j in range(4-i):\n",
    "        print('#', end=\"  \")\n",
    "    print()"
   ]
  },
  {
   "cell_type": "code",
   "execution_count": 60,
   "id": "5e601b5b-9dc9-4471-b324-bb6817a9e7d0",
   "metadata": {},
   "outputs": [
    {
     "name": "stdout",
     "output_type": "stream",
     "text": [
      "# # # # \n",
      "# # # \n",
      "# # \n",
      "# \n"
     ]
    }
   ],
   "source": [
    "for i in range(1,5):\n",
    "    print(\"# \"*(5-i))"
   ]
  },
  {
   "cell_type": "code",
   "execution_count": 61,
   "id": "ccf76def-d61e-433d-98ca-59684faf93fc",
   "metadata": {},
   "outputs": [
    {
     "name": "stdout",
     "output_type": "stream",
     "text": [
      "15\n",
      "30\n",
      "40\n"
     ]
    }
   ],
   "source": [
    "nums = [12,15,18,21,26, 30, 40]\n",
    "\n",
    "for num in nums:\n",
    "    if num % 5 == 0:\n",
    "        print(num) "
   ]
  },
  {
   "cell_type": "code",
   "execution_count": 62,
   "id": "a3a13b58-6ae1-45da-94b4-426dc7653edd",
   "metadata": {},
   "outputs": [
    {
     "name": "stdout",
     "output_type": "stream",
     "text": [
      "25\n",
      "30\n",
      "35\n"
     ]
    }
   ],
   "source": [
    "nums = [12,14,18,21,25,30,35]\n",
    "\n",
    "for num in nums:\n",
    "    if num % 5 == 0:\n",
    "        print(num)  "
   ]
  },
  {
   "cell_type": "code",
   "execution_count": 63,
   "id": "4dcbf7b9-721e-4053-9d36-43950d4409eb",
   "metadata": {},
   "outputs": [
    {
     "name": "stdout",
     "output_type": "stream",
     "text": [
      "25\n",
      "20\n"
     ]
    }
   ],
   "source": [
    "nums = [12,14,18,21,25,20]\n",
    "\n",
    "for num in nums:\n",
    "    if num % 5 == 0:\n",
    "        print(num)"
   ]
  },
  {
   "cell_type": "code",
   "execution_count": 64,
   "id": "bf9072da-6f1a-421e-a9c1-6f43a562afe2",
   "metadata": {},
   "outputs": [
    {
     "name": "stdout",
     "output_type": "stream",
     "text": [
      "20\n"
     ]
    }
   ],
   "source": [
    "nums = [12,14,18,21,20,25]\n",
    "\n",
    "for num in nums:\n",
    "    if num % 5 == 0:\n",
    "        print(num)  \n",
    "        break"
   ]
  },
  {
   "cell_type": "code",
   "execution_count": 65,
   "id": "73567a5e-a01a-4d8d-8a10-f1cb82059f2f",
   "metadata": {},
   "outputs": [
    {
     "name": "stdout",
     "output_type": "stream",
     "text": [
      "20\n"
     ]
    }
   ],
   "source": [
    "nums = [12,14,18,21,20,25]\n",
    "\n",
    "for num in nums:\n",
    "    if num % 5 == 0:\n",
    "        print(num)  \n",
    "        break"
   ]
  },
  {
   "cell_type": "code",
   "execution_count": 66,
   "id": "1abe1d03-099e-4847-b1f4-892558b1929e",
   "metadata": {},
   "outputs": [
    {
     "name": "stdout",
     "output_type": "stream",
     "text": [
      "10\n"
     ]
    }
   ],
   "source": [
    "nums = [10,14,18,21,5,10]\n",
    "\n",
    "for num in nums:\n",
    "    if num % 5 == 0:\n",
    "        print(num)  \n",
    "        break #it will print only 1 number then it break "
   ]
  },
  {
   "cell_type": "code",
   "execution_count": 67,
   "id": "a7411086-ab90-4e36-9c51-7fe46cdcd0b6",
   "metadata": {},
   "outputs": [],
   "source": [
    "nums = [7,14,18,21,23,27] #hear there is no number which is divisible by 5 we got output as blank\n",
    "\n",
    "for num in nums:\n",
    "    if num % 5 == 0:\n",
    "        print(num)  \n",
    "        break"
   ]
  },
  {
   "cell_type": "code",
   "execution_count": 68,
   "id": "4a273ef2-471a-42ca-ae63-84aaea5e1cf9",
   "metadata": {},
   "outputs": [
    {
     "name": "stdout",
     "output_type": "stream",
     "text": [
      "Number Not Found\n",
      "Number Not Found\n",
      "Number Not Found\n",
      "Number Not Found\n",
      "Number Not Found\n",
      "Number Not Found\n",
      "Number Not Found\n"
     ]
    }
   ],
   "source": [
    "nums = [7,14,18,21,23,27,29] #hear there is no number which is divisible by 5 we got output as blank\n",
    "\n",
    "for num in nums:\n",
    "    if num % 5 == 0:\n",
    "        print(num)  \n",
    "        break\n",
    "    else:\n",
    "        print('Number Not Found') #every iteration it cheking condition"
   ]
  },
  {
   "cell_type": "code",
   "execution_count": 69,
   "id": "11b107f1-1e03-4b89-bdc9-2ff6a874467d",
   "metadata": {},
   "outputs": [
    {
     "name": "stdout",
     "output_type": "stream",
     "text": [
      "Number Not Found\n",
      "Number Not Found\n"
     ]
    }
   ],
   "source": [
    "nums = [7,14] #hear there is no number which is divisible by 5 we got output as blank\n",
    "for num in nums:\n",
    "    if num % 5 == 0:\n",
    "        print(num)  \n",
    "        break\n",
    "    else:\n",
    "        print('Number Not Found') #every iteration it cheking condition "
   ]
  },
  {
   "cell_type": "code",
   "execution_count": 70,
   "id": "0df4c8ca-6ac4-4578-84f7-73ec3889aa4e",
   "metadata": {},
   "outputs": [
    {
     "name": "stdout",
     "output_type": "stream",
     "text": [
      "Number Not Found\n"
     ]
    }
   ],
   "source": [
    "nums = [7,14,18,21,23,27] #hear there is no number which is divisible by 5 we got output as blank\n",
    "\n",
    "for num in nums:\n",
    "    if num % 5 == 0:\n",
    "        print(num)  \n",
    "        break\n",
    "else:\n",
    "        print('Number Not Found') # hear else we dont write in if block but we can write in for block only"
   ]
  },
  {
   "cell_type": "code",
   "execution_count": 71,
   "id": "99b163f6-682c-40cf-8f3f-390f23c5e485",
   "metadata": {},
   "outputs": [
    {
     "name": "stdout",
     "output_type": "stream",
     "text": [
      "10\n"
     ]
    }
   ],
   "source": [
    "nums = [10,14,18,21,20,27] #hear there is no number which is divisible by 5 we got output as blank\n",
    "\n",
    "for num in nums:\n",
    "    if num % 5 == 0:\n",
    "        print(num)  \n",
    "        break\n",
    "else:\n",
    "        print('Not Found')"
   ]
  },
  {
   "cell_type": "code",
   "execution_count": 72,
   "id": "8b140ec2-ecb1-43c4-bca5-b4c835a38b0a",
   "metadata": {},
   "outputs": [
    {
     "name": "stdout",
     "output_type": "stream",
     "text": [
      "10\n",
      "20\n",
      "30\n",
      "Not Found\n"
     ]
    }
   ],
   "source": [
    "nums = [10,14,18,21,20,27,30] #hear there is no number which is divisible by 5 we got output as blank\n",
    "\n",
    "for num in nums:\n",
    "    if num % 5 == 0:\n",
    "        print(num)  \n",
    "        #break\n",
    "else:\n",
    "        print('Not Found')"
   ]
  },
  {
   "cell_type": "code",
   "execution_count": 73,
   "id": "0bc7bb31-3292-462f-9b0f-dfc7249058fd",
   "metadata": {},
   "outputs": [
    {
     "name": "stdout",
     "output_type": "stream",
     "text": [
      "10\n"
     ]
    }
   ],
   "source": [
    "nums = [10,14,18,21,20,27] #hear there is no number which is divisible by 5 we got output as blank\n",
    "for num in nums:\n",
    "    if num % 5 == 0:\n",
    "        print(num)  \n",
    "        break\n",
    "else:\n",
    "        print('Not Found')"
   ]
  },
  {
   "cell_type": "code",
   "execution_count": 74,
   "id": "7ff98525-d1fa-4aaa-a886-ad21083ce24e",
   "metadata": {},
   "outputs": [
    {
     "name": "stdout",
     "output_type": "stream",
     "text": [
      "Not prime Number\n"
     ]
    }
   ],
   "source": [
    "num = 14\n",
    "\n",
    "for i in range(2,num):\n",
    "    if num % i == 0:\n",
    "        print('Not prime Number')\n",
    "        break\n",
    "else:\n",
    "    print('Prime Number')"
   ]
  },
  {
   "cell_type": "code",
   "execution_count": 75,
   "id": "ea292b09-bdac-4fbb-8a95-6437c3764685",
   "metadata": {},
   "outputs": [
    {
     "name": "stdout",
     "output_type": "stream",
     "text": [
      "Prime Number\n"
     ]
    }
   ],
   "source": [
    "num = 13\n",
    "\n",
    "for i in range(2,num):\n",
    "    if num % i == 0:\n",
    "        print('Not prime Number')\n",
    "        break\n",
    "else:\n",
    "    print('Prime Number')"
   ]
  },
  {
   "cell_type": "code",
   "execution_count": 76,
   "id": "6c9b5440-e1bc-42f3-aebb-c919ae78cc03",
   "metadata": {},
   "outputs": [
    {
     "name": "stdin",
     "output_type": "stream",
     "text": [
      "Enter the length of the array 12\n",
      "Enter the next value 34\n",
      "Enter the next value 23\n",
      "Enter the next value 465\n",
      "Enter the next value 6\n",
      "Enter the next value 56\n"
     ]
    },
    {
     "name": "stdout",
     "output_type": "stream",
     "text": [
      "array('i', [34, 23, 465, 6, 56])\n"
     ]
    }
   ],
   "source": [
    "from array import * \n",
    "arr = array('i',[])\n",
    "\n",
    "n = int(input('Enter the length of the array'))\n",
    "\n",
    "for i in range(5):\n",
    "    x = int(input('Enter the next value'))\n",
    "    arr.append(x)\n",
    "print(arr)"
   ]
  },
  {
   "cell_type": "code",
   "execution_count": 77,
   "id": "05270f7c-c4f7-4409-85d7-f506264e0c19",
   "metadata": {},
   "outputs": [
    {
     "name": "stdin",
     "output_type": "stream",
     "text": [
      "Enter the length of the array 2\n",
      "Enter the next value 3\n"
     ]
    },
    {
     "ename": "TypeError",
     "evalue": "'str' object cannot be interpreted as an integer",
     "output_type": "error",
     "traceback": [
      "\u001b[1;31m---------------------------------------------------------------------------\u001b[0m",
      "\u001b[1;31mTypeError\u001b[0m                                 Traceback (most recent call last)",
      "Cell \u001b[1;32mIn[77], line 8\u001b[0m\n\u001b[0;32m      6\u001b[0m \u001b[38;5;28;01mfor\u001b[39;00m i \u001b[38;5;129;01min\u001b[39;00m \u001b[38;5;28mrange\u001b[39m(\u001b[38;5;241m5\u001b[39m):\n\u001b[0;32m      7\u001b[0m     x \u001b[38;5;241m=\u001b[39m \u001b[38;5;28minput\u001b[39m(\u001b[38;5;124m'\u001b[39m\u001b[38;5;124mEnter the next value\u001b[39m\u001b[38;5;124m'\u001b[39m)\n\u001b[1;32m----> 8\u001b[0m     arr\u001b[38;5;241m.\u001b[39mappend(x)\n\u001b[0;32m      9\u001b[0m \u001b[38;5;28mprint\u001b[39m(arr)\n",
      "\u001b[1;31mTypeError\u001b[0m: 'str' object cannot be interpreted as an integer"
     ]
    }
   ],
   "source": [
    "from array import * \n",
    "arr = array('i',[])\n",
    "\n",
    "n = input('Enter the length of the array')\n",
    "\n",
    "for i in range(5):\n",
    "    x = input('Enter the next value')\n",
    "    arr.append(x)\n",
    "print(arr)"
   ]
  },
  {
   "cell_type": "code",
   "execution_count": 78,
   "id": "a819bf74-cb56-4dfc-b836-d940e6d8c942",
   "metadata": {},
   "outputs": [],
   "source": [
    "# Way of creating array using numpy"
   ]
  },
  {
   "cell_type": "code",
   "execution_count": 79,
   "id": "a8b75050-78e6-45a7-abe5-c67ec2f65540",
   "metadata": {},
   "outputs": [
    {
     "name": "stdout",
     "output_type": "stream",
     "text": [
      "[1 2 3 4 5]\n"
     ]
    },
    {
     "data": {
      "text/plain": [
       "numpy.ndarray"
      ]
     },
     "execution_count": 79,
     "metadata": {},
     "output_type": "execute_result"
    }
   ],
   "source": [
    "from numpy import *\n",
    "arr = array([1,2,3,4,5])\n",
    "print(arr)\n",
    "type(arr)"
   ]
  },
  {
   "cell_type": "code",
   "execution_count": 80,
   "id": "4ae2e0c8-df90-4d2d-aede-a8c51db9980f",
   "metadata": {},
   "outputs": [
    {
     "name": "stdout",
     "output_type": "stream",
     "text": [
      "int32\n"
     ]
    }
   ],
   "source": [
    "print(arr.dtype)"
   ]
  },
  {
   "cell_type": "code",
   "execution_count": 81,
   "id": "c9af86a3-8df0-472a-a775-db05b35bfe92",
   "metadata": {},
   "outputs": [
    {
     "name": "stdout",
     "output_type": "stream",
     "text": [
      "[1.  2.  3.  4.  5.9]\n"
     ]
    }
   ],
   "source": [
    "arr = array([1,2,3,4,5.9])\n",
    "print(arr)"
   ]
  },
  {
   "cell_type": "code",
   "execution_count": 82,
   "id": "80b370dd-7e91-493f-9ddf-07091240d6d8",
   "metadata": {},
   "outputs": [
    {
     "name": "stdout",
     "output_type": "stream",
     "text": [
      "float64\n"
     ]
    }
   ],
   "source": [
    "print(arr.dtype)"
   ]
  },
  {
   "cell_type": "code",
   "execution_count": 83,
   "id": "3f73394e-d888-4ac2-bca9-c11c4b21d37d",
   "metadata": {},
   "outputs": [
    {
     "data": {
      "text/plain": [
       "array([1. , 2. , 3. , 4. , 5.9])"
      ]
     },
     "execution_count": 83,
     "metadata": {},
     "output_type": "execute_result"
    }
   ],
   "source": [
    "arr2 = array([1,2,3,4,5.9],float)\n",
    "arr2"
   ]
  },
  {
   "cell_type": "code",
   "execution_count": 84,
   "id": "f1079031-d4c7-44be-be0e-8a4026a709d9",
   "metadata": {},
   "outputs": [
    {
     "data": {
      "text/plain": [
       "array([1, 2, 3, 4, 5])"
      ]
     },
     "execution_count": 84,
     "metadata": {},
     "output_type": "execute_result"
    }
   ],
   "source": [
    "arr3 = array([1,2,3,4,5.6],int)\n",
    "arr3"
   ]
  },
  {
   "cell_type": "code",
   "execution_count": 85,
   "id": "57ebaff0-e410-4735-9a0a-461c8f05186e",
   "metadata": {},
   "outputs": [],
   "source": [
    "import numpy as np"
   ]
  },
  {
   "cell_type": "code",
   "execution_count": 86,
   "id": "b4330eea-dddf-48ce-aaae-d986a1343cd1",
   "metadata": {},
   "outputs": [
    {
     "data": {
      "text/plain": [
       "array([ 0.        ,  1.77777778,  3.55555556,  5.33333333,  7.11111111,\n",
       "        8.88888889, 10.66666667, 12.44444444, 14.22222222, 16.        ])"
      ]
     },
     "execution_count": 86,
     "metadata": {},
     "output_type": "execute_result"
    }
   ],
   "source": [
    "arr4 = np.linspace(0, 16, 10) # break the code between 10 spaces between 0 to 16 but why decimal becuase we break into parts thats why it is floats\n",
    "arr4"
   ]
  },
  {
   "cell_type": "code",
   "execution_count": 87,
   "id": "e905bf1b-84f5-46f8-8ae3-925d4bd0a0c7",
   "metadata": {},
   "outputs": [
    {
     "data": {
      "text/plain": [
       "array([0, 2, 4, 6, 8])"
      ]
     },
     "execution_count": 87,
     "metadata": {},
     "output_type": "execute_result"
    }
   ],
   "source": [
    "arr5 = np.arange(0,10,2) # arange - as range\n",
    "arr5"
   ]
  },
  {
   "cell_type": "code",
   "execution_count": 88,
   "id": "34ca5e2e-616a-4fe7-8c91-d40cae7b927a",
   "metadata": {},
   "outputs": [
    {
     "data": {
      "text/plain": [
       "array([0., 0., 0., 0., 0.])"
      ]
     },
     "execution_count": 88,
     "metadata": {},
     "output_type": "execute_result"
    }
   ],
   "source": [
    "arr6 = np.zeros(5)\n",
    "arr6"
   ]
  },
  {
   "cell_type": "code",
   "execution_count": 89,
   "id": "f34fc960-c828-48cd-8be9-037912ca1fc0",
   "metadata": {},
   "outputs": [
    {
     "data": {
      "text/plain": [
       "array([1., 1., 1., 1., 1.])"
      ]
     },
     "execution_count": 89,
     "metadata": {},
     "output_type": "execute_result"
    }
   ],
   "source": [
    "arr7 = np.ones(5)\n",
    "arr7"
   ]
  },
  {
   "cell_type": "code",
   "execution_count": null,
   "id": "551f94af-5b57-40a1-9056-768763cf78f4",
   "metadata": {},
   "outputs": [],
   "source": [
    "import tkinter as tk\n",
    "# Function to be called when the button is clicked\n",
    "def on_button_click():\n",
    "    label.config(text=\"Button clicked!\")\n",
    "\n",
    "# Create the main application window\n",
    "root = tk.Tk()\n",
    "root.title(\"Simple Tkinter App\")\n",
    "\n",
    "# Create a label widget\n",
    "label = tk.Label(root, text=\"Hello, Tkinter!\")\n",
    "label.pack(pady=20)\n",
    "\n",
    "# Create a button widget\n",
    "button = tk.Button(root, text=\"Click Me\", command=on_button_click)\n",
    "button.pack(pady=20)\n",
    "\n",
    "# Run the application\n",
    "root.mainloop()"
   ]
  },
  {
   "cell_type": "code",
   "execution_count": null,
   "id": "5c53f75e-ceb0-4de9-bc26-ef67028768d3",
   "metadata": {},
   "outputs": [],
   "source": [
    "import tkinter as tk\n",
    "from tkinter import messagebox\n",
    "\n",
    "# Function to be called when the button is clicked\n",
    "def on_button_click():\n",
    "    user_input = entry.get()\n",
    "    messagebox.showinfo(\"Information\", f\"You entered: {user_input}\")\n",
    "\n",
    "# Create the main application window\n",
    "root = tk.Tk()\n",
    "root.title(\"Simple Tkinter App\")\n",
    "\n",
    "# Create a label widget\n",
    "label = tk.Label(root, text=\"Enter something:\")\n",
    "label.pack(pady=10)\n",
    "\n",
    "# Create a text entry widget\n",
    "entry = tk.Entry(root, width=30)\n",
    "entry.pack(pady=10)\n",
    "\n",
    "# Create a button widget\n",
    "button = tk.Button(root, text=\"Submit\", command=on_button_click)\n",
    "button.pack(pady=10)\n",
    "\n",
    "# Run the application\n",
    "root.mainloop()"
   ]
  },
  {
   "cell_type": "code",
   "execution_count": null,
   "id": "6a216796-7766-4e76-8dd1-24c331e8955d",
   "metadata": {},
   "outputs": [],
   "source": []
  },
  {
   "cell_type": "code",
   "execution_count": null,
   "id": "3ff9f489-9b2d-4c00-9758-5a638c4f7969",
   "metadata": {},
   "outputs": [],
   "source": []
  },
  {
   "cell_type": "code",
   "execution_count": null,
   "id": "a5a2c5bc-77ea-40ba-98c9-e89fd7392162",
   "metadata": {},
   "outputs": [],
   "source": []
  },
  {
   "cell_type": "code",
   "execution_count": null,
   "id": "2c92b81e-c91c-4a90-934d-4e7a1aa2b404",
   "metadata": {},
   "outputs": [],
   "source": []
  },
  {
   "cell_type": "code",
   "execution_count": null,
   "id": "67054fe8-cf2c-4120-b929-0f651ebd64af",
   "metadata": {},
   "outputs": [],
   "source": []
  }
 ],
 "metadata": {
  "kernelspec": {
   "display_name": "Python 3 (ipykernel)",
   "language": "python",
   "name": "python3"
  },
  "language_info": {
   "codemirror_mode": {
    "name": "ipython",
    "version": 3
   },
   "file_extension": ".py",
   "mimetype": "text/x-python",
   "name": "python",
   "nbconvert_exporter": "python",
   "pygments_lexer": "ipython3",
   "version": "3.12.7"
  }
 },
 "nbformat": 4,
 "nbformat_minor": 5
}
